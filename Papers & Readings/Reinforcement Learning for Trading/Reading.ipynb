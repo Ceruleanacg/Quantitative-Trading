{
 "cells": [
  {
   "cell_type": "markdown",
   "metadata": {
    "collapsed": true
   },
   "source": [
    "# 摘要"
   ]
  },
  {
   "cell_type": "markdown",
   "metadata": {},
   "source": [
    "作者用强化学习训练交易系统，提出了一种强化学习方法称为递归强化学习（Recurrent Reinforcement Learning， RRL），并提出了一种值函数称为差分夏普率（Differential Sharpe Ratio），并在1970年到1994年的标普500指数（S&P 500 index）的月线数据上与一些方法的做了对比试验，证实了标普500指数的可预测性，同时取得了较好的结果。"
   ]
  },
  {
   "cell_type": "markdown",
   "metadata": {},
   "source": [
    "# 递归强化学习（Recurrent Reinforcement Learning, RRL）"
   ]
  },
  {
   "cell_type": "markdown",
   "metadata": {},
   "source": [
    "## 标记"
   ]
  },
  {
   "cell_type": "markdown",
   "metadata": {},
   "source": [
    "在某一时间段，考虑某一合约的价值序列$z_t$，交易员只能执行买多、持有、卖多指令，记为$F_t\\in\\{-1, 0, 1\\}$，同时，买多和卖多的量为一个常数。从$t$到$t+1$时刻，会得到两个交易指令$F_t$与$F_{t+1}$，交易系统的返回值$R_{t+1}$将由交易收益、手续费、税费构成，将交易手续费记为$\\delta$"
   ]
  },
  {
   "cell_type": "markdown",
   "metadata": {},
   "source": [
    "为了更好地将交易的手续费、税费、市场冲击等纳入执行指令的一部分，对于交易员而言，是必须要有内部状态的，而且这个内部状态必须是递归的，对于本问题而言，交易员的决策函数将具有以下形式：\n",
    "$$F_t=F(\\theta_t; F_{t-1}, I_t)\\quad with \\quad I=\\{z_t, z_{t-1}, z_{t-2}, \\ldots; y_t, y_{t-1}, y_{t-2}\\}$$"
   ]
  },
  {
   "cell_type": "markdown",
   "metadata": {},
   "source": [
    "其中，$\\theta_t$是待学习的系统参数，$I_t$是$t$时刻的已知信息，包含了过去的价格序列，和其他外部指定的变量。"
   ]
  },
  {
   "cell_type": "markdown",
   "metadata": {},
   "source": [
    "附加利润（Additive profits），可以由以下公式计算：\n",
    "$$P_T=\\sum^{T}_{t=1}R_t=\\mu\\sum^{T}_{t=1}\\{r^f_t+F_{t-1}(r_t-r^f_t)-\\delta \\left| F_t-F_{t-1}\\right|\\}$$"
   ]
  },
  {
   "cell_type": "markdown",
   "metadata": {},
   "source": [
    "我们可以考虑每笔交易都是关于股票或者期货合约一个固定数目，其中$r_t=z_t-z_{t-1}$，$r^f_t=z^f_t-z^f_{t-1}$作为合约价差和指数价差。"
   ]
  },
  {
   "cell_type": "markdown",
   "metadata": {},
   "source": [
    "乘数利润（Multiplicative profits），可以由以下公式计算："
   ]
  },
  {
   "cell_type": "markdown",
   "metadata": {},
   "source": [
    "$$W_T=W_0\\prod^{T}_{t=1}\\{1+R_t\\}=W_0\\prod^{T}_{t=1}\\{1+(1-F_{t-1})r^f_t+F_{t_1}r_t\\}\\{1-\\delta \\left|F_t-F_{t-1}\\right|\\}$$"
   ]
  },
  {
   "cell_type": "markdown",
   "metadata": {},
   "source": [
    "当一个固定分数关于积累财富$v>0$时，$r_t=(z_t/z_{t-1}-1)$，同时$r^f_t=(z^f_t/z^f_{t-1}-1)$，如果不允许卖空，不考虑杠杆，那么$v=1$"
   ]
  },
  {
   "cell_type": "markdown",
   "metadata": {},
   "source": [
    "不同于最大化两上式，一般在对冲基金希望最大化夏普比率根据现代投资组合理论，夏普比率经常用，具有以下形式："
   ]
  },
  {
   "cell_type": "markdown",
   "metadata": {},
   "source": [
    "$$S_T = \\frac{Average(R_t)}{Standard Deviation(R_t)}$$"
   ]
  },
  {
   "cell_type": "markdown",
   "metadata": {},
   "source": [
    "差分夏普率代表了$R_t$和对于$S_t$的影响"
   ]
  },
  {
   "cell_type": "markdown",
   "metadata": {},
   "source": [
    "$$D_t=\\frac{dS_t}{d\\mu}=\\frac{B_{t-1}\\Delta A_t-\\frac{1}{2}A_{t-1}\\Delta{B_t}}{(B_{t-1}-A^2_{t-1})^{\\frac{3}{2}}}$$"
   ]
  },
  {
   "cell_type": "markdown",
   "metadata": {},
   "source": [
    "$$A_t = A_{t-1}+\\mu \\Delta A_t = A_{t-1} + \\mu(R_t-A_{t_1})$$\n",
    "$$B_t = B_{t-1}+\\mu \\Delta B_t = B_{t-1} + \\mu(R^2_t-B_{t_1})$$"
   ]
  },
  {
   "cell_type": "markdown",
   "metadata": {},
   "source": [
    "性能函数可以表示为$T$时刻内，返回函数值序列$U_T=U(R_1, R_2, \\ldots, R_T)$"
   ]
  },
  {
   "cell_type": "code",
   "execution_count": null,
   "metadata": {},
   "outputs": [],
   "source": []
  }
 ],
 "metadata": {
  "kernelspec": {
   "display_name": "Python 3",
   "language": "python",
   "name": "python3"
  },
  "language_info": {
   "codemirror_mode": {
    "name": "ipython",
    "version": 3
   },
   "file_extension": ".py",
   "mimetype": "text/x-python",
   "name": "python",
   "nbconvert_exporter": "python",
   "pygments_lexer": "ipython3",
   "version": "3.5.4"
  }
 },
 "nbformat": 4,
 "nbformat_minor": 1
}
