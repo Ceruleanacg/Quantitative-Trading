{
 "cells": [
  {
   "cell_type": "markdown",
   "metadata": {
    "collapsed": true
   },
   "source": [
    "# 摘要"
   ]
  },
  {
   "cell_type": "markdown",
   "metadata": {},
   "source": [
    "作者提出通过最大化夏普比率或差分夏普率使用递归强化学习（Recurrent Reinforcement Learning， RRL）训练交易系统，并在1970-1994年的标普500的月线指数进行实验，取得了相对较好的收益。"
   ]
  },
  {
   "cell_type": "markdown",
   "metadata": {},
   "source": [
    "# 记号"
   ]
  },
  {
   "cell_type": "markdown",
   "metadata": {},
   "source": [
    "### 交易指令"
   ]
  },
  {
   "cell_type": "markdown",
   "metadata": {},
   "source": [
    "智能体可以执行买多、观望、卖空指令，记为$F_t\\in\\{-1, 0, 1\\}$"
   ]
  },
  {
   "cell_type": "markdown",
   "metadata": {},
   "source": [
    "$$\n",
    "F_t = tanh(w^T \\cdot x_t)\n",
    "$$"
   ]
  },
  {
   "cell_type": "markdown",
   "metadata": {},
   "source": [
    "### 递归强化学习"
   ]
  },
  {
   "cell_type": "markdown",
   "metadata": {},
   "source": [
    "递归即将一段历史信息作为输入，作者采用窗口长度为$W$的的价格序列或者收益序列与上一时刻的交易指令拼接作为输入："
   ]
  },
  {
   "cell_type": "markdown",
   "metadata": {},
   "source": [
    "$$\n",
    "x_t = \\left[ 1, r_t, r_{t-1}, \\cdots, r_{t-W}, F_{t-1} \\right]\n",
    "$$"
   ]
  },
  {
   "cell_type": "markdown",
   "metadata": {},
   "source": [
    "$$\n",
    "x_t = \\left[ 1, z_t, z_{t-1}, \\cdots, z_{t-W}, F_{t-1} \\right]\n",
    "$$"
   ]
  },
  {
   "cell_type": "markdown",
   "metadata": {},
   "source": [
    "其中，$r_t = z_t - z_{t-1}$，即$t$时刻的价差。"
   ]
  },
  {
   "cell_type": "markdown",
   "metadata": {},
   "source": [
    "### 交易损耗"
   ]
  },
  {
   "cell_type": "markdown",
   "metadata": {},
   "source": [
    "该交易系统考虑交易损耗，交易损耗由税、佣金等产生，记作$\\delta$，所以对$t$时刻的收益，可以这样计算："
   ]
  },
  {
   "cell_type": "markdown",
   "metadata": {},
   "source": [
    "$$\n",
    "R_t = \\mu \\cdot \\left( F_{t-1} \\cdot r_t - \\delta \\left| F_t - F_{t-1} \\right| \\right)\n",
    "$$"
   ]
  },
  {
   "cell_type": "markdown",
   "metadata": {},
   "source": [
    "$\\mu$是股票或者期货合约的手数。"
   ]
  },
  {
   "cell_type": "markdown",
   "metadata": {},
   "source": [
    "### 附加利润 （Additive Profits）"
   ]
  },
  {
   "cell_type": "markdown",
   "metadata": {},
   "source": [
    "$$\n",
    "P_T= \\sum^{T}_{t=1}R_t=\\mu \\sum^{T}_{t=1} \\left( r^f_t+F_{t-1}(r_t-r^f_t)-\\delta \\left| F_t-F_{t-1}\\right| \\right)\n",
    "$$"
   ]
  },
  {
   "cell_type": "markdown",
   "metadata": {},
   "source": [
    "### 乘数利润（Multiplicative profits）"
   ]
  },
  {
   "cell_type": "markdown",
   "metadata": {},
   "source": [
    "$$\n",
    "W_T=W_0\\prod^{T}_{t=1} \\left( 1+R_t \\right)= W_0 \\prod^{T}_{t=1} \\left( 1+(1-F_{t-1}) \\cdot r^f_t+F_{t-1} \\cdot r_t\\right) \\left(1-\\delta \\left|F_t-F_{t-1}\\right|\\right)\n",
    "$$"
   ]
  },
  {
   "cell_type": "markdown",
   "metadata": {},
   "source": [
    "$$r_t=(\\frac{z_t}{z_{t-1}}-1)$$\n",
    "$$r^f_t=(\\frac{z^f_t}{z^f_{t-1}}-1)$$"
   ]
  },
  {
   "cell_type": "markdown",
   "metadata": {},
   "source": [
    "在这个公式中，相对于附加利润，$r_t$与$r^f_t$的形式被改写为分数形式。"
   ]
  },
  {
   "cell_type": "markdown",
   "metadata": {},
   "source": [
    "### 差分夏普率（Differential Sharpe Ratio）"
   ]
  },
  {
   "cell_type": "markdown",
   "metadata": {},
   "source": [
    "夏普比率："
   ]
  },
  {
   "cell_type": "markdown",
   "metadata": {},
   "source": [
    "$$S_T = \\frac{Average(R_t)}{Standard Deviation(R_t)}$$"
   ]
  },
  {
   "cell_type": "markdown",
   "metadata": {},
   "source": [
    "差分夏普率记作："
   ]
  },
  {
   "cell_type": "markdown",
   "metadata": {},
   "source": [
    "$$D_t\\equiv\\frac{dS_t}{d\\mu}=\\frac{B_{t-1}\\Delta A_t-\\frac{1}{2}A_{t-1}\\Delta{B_t}}{(B_{t-1}-A^2_{t-1})^{\\frac{3}{2}}}$$"
   ]
  },
  {
   "cell_type": "markdown",
   "metadata": {},
   "source": [
    "$$A_t = A_{t-1}+\\mu \\Delta A_t = A_{t-1} + \\mu(R_t-A_{t_1})$$\n",
    "$$B_t = B_{t-1}+\\mu \\Delta B_t = B_{t-1} + \\mu(R^2_t-B_{t_1})$$"
   ]
  },
  {
   "cell_type": "markdown",
   "metadata": {},
   "source": [
    "### 值函数序列"
   ]
  },
  {
   "cell_type": "markdown",
   "metadata": {},
   "source": [
    "值序列$U_T=U(R_1, R_2, \\ldots, R_T)$，其梯度可以通过如下公式计算："
   ]
  },
  {
   "cell_type": "markdown",
   "metadata": {},
   "source": [
    "$$\n",
    "\\frac{dU_T(\\theta)}{d\\theta}=\\sum^{T}_{t=1}\\frac{U_T}{dR_t} \\left(\\frac{dR_t}{dF_t}\\frac{dF_t}{d\\theta}+\\frac{dR_t}{dF_{t-1}}\\frac{dF_{t-1}}{d\\theta}\\right)\n",
    "$$"
   ]
  },
  {
   "cell_type": "markdown",
   "metadata": {},
   "source": [
    "对于在线学习（On-line Learning）对于$t$时刻，其梯度可以通过如下公式计算："
   ]
  },
  {
   "cell_type": "markdown",
   "metadata": {},
   "source": [
    "$$\n",
    "\\frac{dU_t(\\theta)}{d\\theta}=\\frac{U_t}{dR_t}\\left(\\frac{dR_t}{dF_t}\\frac{dF_t}{d\\theta}+\\frac{dR_t}{dF_{t-1}}\\frac{dF_{t-1}}{d\\theta}\\right)\n",
    "$$"
   ]
  },
  {
   "cell_type": "markdown",
   "metadata": {},
   "source": [
    "然后通过反向传播与梯度下降更新权重反复迭代最大化夏普率或者差分夏普率。"
   ]
  },
  {
   "cell_type": "markdown",
   "metadata": {},
   "source": [
    "# 实验"
   ]
  },
  {
   "cell_type": "markdown",
   "metadata": {},
   "source": [
    "实验结果见原文，作者证实了该方法在25年标普500月线数据表现较好。"
   ]
  },
  {
   "cell_type": "markdown",
   "metadata": {},
   "source": [
    "# 问题"
   ]
  },
  {
   "cell_type": "markdown",
   "metadata": {},
   "source": [
    "- 目前还没有复现结果，"
   ]
  }
 ],
 "metadata": {
  "kernelspec": {
   "display_name": "Python 3",
   "language": "python",
   "name": "python3"
  },
  "language_info": {
   "codemirror_mode": {
    "name": "ipython",
    "version": 3
   },
   "file_extension": ".py",
   "mimetype": "text/x-python",
   "name": "python",
   "nbconvert_exporter": "python",
   "pygments_lexer": "ipython3",
   "version": "3.5.4"
  }
 },
 "nbformat": 4,
 "nbformat_minor": 1
}
